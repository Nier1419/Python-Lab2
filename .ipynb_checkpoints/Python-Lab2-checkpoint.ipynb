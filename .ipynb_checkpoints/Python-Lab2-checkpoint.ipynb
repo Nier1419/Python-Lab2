{
 "cells": [
  {
   "cell_type": "code",
   "execution_count": 16,
   "id": "c64f3c5a",
   "metadata": {},
   "outputs": [
    {
     "name": "stdout",
     "output_type": "stream",
     "text": [
      "I recommended it, It is good\n"
     ]
    }
   ],
   "source": [
    "movie = \"coco\"\n",
    "rate=3\n",
    "popScore=72.65\n",
    "\n",
    "if (rate>=4 and popScore>80.0):\n",
    "    print(\"Highly recommended\")\n",
    "elif (rate>=3 and popScore>70.0):\n",
    "    print(\"I recommended it, It is good\")\n",
    "elif (rate<=2 and popScore>60.0):\n",
    "    print(\"You should check it out!\")\n",
    "elif (rate<=2 and popScore<50.0):\n",
    "    print(\"Don't watch it, It is a waste of time\")\n",
    "else:\n",
    "    print(\"\")\n",
    "    "
   ]
  },
  {
   "cell_type": "code",
   "execution_count": null,
   "id": "761742b4",
   "metadata": {},
   "outputs": [],
   "source": []
  },
  {
   "cell_type": "code",
   "execution_count": null,
   "id": "3d6cbdb5",
   "metadata": {},
   "outputs": [],
   "source": []
  }
 ],
 "metadata": {
  "kernelspec": {
   "display_name": "Python 3 (ipykernel)",
   "language": "python",
   "name": "python3"
  },
  "language_info": {
   "codemirror_mode": {
    "name": "ipython",
    "version": 3
   },
   "file_extension": ".py",
   "mimetype": "text/x-python",
   "name": "python",
   "nbconvert_exporter": "python",
   "pygments_lexer": "ipython3",
   "version": "3.9.12"
  }
 },
 "nbformat": 4,
 "nbformat_minor": 5
}
